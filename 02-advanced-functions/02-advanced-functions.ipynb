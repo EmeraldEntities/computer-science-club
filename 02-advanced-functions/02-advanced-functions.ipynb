{
 "metadata": {
  "language_info": {
   "codemirror_mode": {
    "name": "ipython",
    "version": 3
   },
   "file_extension": ".py",
   "mimetype": "text/x-python",
   "name": "python",
   "nbconvert_exporter": "python",
   "pygments_lexer": "ipython3",
   "version": "3.8.3-final"
  },
  "orig_nbformat": 2,
  "kernelspec": {
   "name": "Python 3.8.3 64-bit",
   "display_name": "Python 3.8.3 64-bit",
   "metadata": {
    "interpreter": {
     "hash": "2db524e06e9f5f4ffedc911c917cb75e12dbc923643829bf417064a77eb14d37"
    }
   }
  }
 },
 "nbformat": 4,
 "nbformat_minor": 2,
 "cells": [
  {
   "source": [
    "# 02: Advanced Functions\n",
    "\n",
    "- Functions as variables\n",
    "- Higher order Functions\n",
    "- Closure\n",
    "- Decorators"
   ],
   "cell_type": "markdown",
   "metadata": {}
  },
  {
   "source": [
    "## Functions as variables\n",
    "\n",
    "Most likely, you have only seen functions as something you declare and call, separate from variables you can modify, set, or operate with. However, in languages like Python, a function can be treated just like any other variable (as an object)."
   ],
   "cell_type": "markdown",
   "metadata": {}
  },
  {
   "source": [
    "# declare an empty class, just to see what a\n",
    "# \"normal\" object will be like\n",
    "class Example(object):\n",
    "    pass\n",
    "\n",
    "# print the object and its type\n",
    "print(Example(), type(Example()))\n",
    "\n",
    "# declare some functions \n",
    "def multiply_by_2(x):\n",
    "    return x*2\n",
    "\n",
    "def divide_by_2(x):\n",
    "    return x/2\n",
    "\n",
    "print(multiply_by_2, type(multiply_by_2))\n",
    "print(divide_by_2, type(divide_by_2))"
   ],
   "cell_type": "code",
   "metadata": {},
   "execution_count": 61,
   "outputs": [
    {
     "output_type": "stream",
     "name": "stdout",
     "text": [
      "<__main__.Example object at 0x000001F38163DFA0> <class '__main__.Example'>\n<function multiply_by_2 at 0x000001F381C6F940> <class 'function'>\n<function divide_by_2 at 0x000001F3820B5EE0> <class 'function'>\n"
     ]
    }
   ]
  },
  {
   "source": [
    "Since a function is just a variable, it can be assigned to just like any other variable. Then, you can call it just like it was a normal function."
   ],
   "cell_type": "markdown",
   "metadata": {}
  },
  {
   "cell_type": "code",
   "execution_count": 62,
   "metadata": {},
   "outputs": [
    {
     "output_type": "stream",
     "name": "stdout",
     "text": [
      "2\n2.0\n"
     ]
    }
   ],
   "source": [
    "fun = multiply_by_2\n",
    "\n",
    "print(fun(1))\n",
    "\n",
    "fun = divide_by_2\n",
    "\n",
    "print(fun(4))"
   ]
  },
  {
   "source": [
    "Variables can be passed into and from functions. If functions are just like any other variable, then they can be passed into and from functions. A function which takes or returns functions is called a higher order function."
   ],
   "cell_type": "markdown",
   "metadata": {}
  },
  {
   "cell_type": "code",
   "execution_count": 63,
   "metadata": {},
   "outputs": [
    {
     "output_type": "stream",
     "name": "stdout",
     "text": [
      "10\n4.0\n20\n"
     ]
    }
   ],
   "source": [
    "def apply_operation(operation, x):\n",
    "    # take a function as a parameter as if it was any\n",
    "    # other parameter, and also call it just like the\n",
    "    # above example\n",
    "    return operation(x)\n",
    "\n",
    "print(apply_operation(multiply_by_2, 5))\n",
    "print(apply_operation(divide_by_2, 8))\n",
    "\n",
    "def get_some_function():\n",
    "    # since we can treat a function as any other variable,\n",
    "    # we can return it like any other value, just like\n",
    "    # saying \"return 5\"\n",
    "    return multiply_by_2\n",
    "\n",
    "print(apply_operation(get_some_function(), 10))\n"
   ]
  },
  {
   "source": [
    "This works with functions that you don't declare too. Any function."
   ],
   "cell_type": "markdown",
   "metadata": {}
  },
  {
   "cell_type": "code",
   "execution_count": 64,
   "metadata": {},
   "outputs": [
    {
     "output_type": "stream",
     "name": "stdout",
     "text": [
      "4.0\n3.0\n"
     ]
    }
   ],
   "source": [
    "import math\n",
    "\n",
    "print(apply_operation(math.sqrt, 16))\n",
    "print(apply_operation(math.log2, 8))"
   ]
  },
  {
   "cell_type": "code",
   "execution_count": 65,
   "metadata": {},
   "outputs": [
    {
     "output_type": "stream",
     "name": "stdout",
     "text": [
      "running fun:\nhi\nhi\nhi\nhi\nhi\n"
     ]
    }
   ],
   "source": [
    "class ExampleTwo(object):\n",
    "    def __init__(self, n):\n",
    "        self.n = n;\n",
    "\n",
    "    def print_hi(self):\n",
    "        for _ in range(self.n):\n",
    "            print(\"hi\")\n",
    "\n",
    "ex = ExampleTwo(5)\n",
    "fun = ex.print_hi\n",
    "\n",
    "print(\"running fun:\")\n",
    "fun()"
   ]
  },
  {
   "source": [
    "It works with methods too, and you can see that the instance variable `n` was still accessible.\n",
    "\n",
    "## Closure\n",
    "\n",
    "Hopefully the idea of functions as any other object variable has stuck. Now we'll see what kind of data is stored in each function object. Take a careful look at this example."
   ],
   "cell_type": "markdown",
   "metadata": {}
  },
  {
   "cell_type": "code",
   "execution_count": 66,
   "metadata": {},
   "outputs": [
    {
     "output_type": "stream",
     "name": "stdout",
     "text": [
      "2.0\n8.0\n"
     ]
    }
   ],
   "source": [
    "def get_distance_fn(x1, y1):\n",
    "    point_1 = (x1, y1)\n",
    "\n",
    "    def inner(x2, y2):\n",
    "        return math.dist(point_1, (x2, y2))\n",
    "\n",
    "    return inner\n",
    "\n",
    "distance_func = get_distance_fn(5, 4)\n",
    "\n",
    "print(distance_func(7, 4))\n",
    "print(distance_func(5, -4))"
   ]
  },
  {
   "source": [
    "We saw how `self` was preserved and we could use `self.n` in a previous example, however this appears pretty different. See what happens when calling `inner`"
   ],
   "cell_type": "markdown",
   "metadata": {}
  },
  {
   "cell_type": "code",
   "execution_count": 67,
   "metadata": {},
   "outputs": [
    {
     "output_type": "stream",
     "name": "stdout",
     "text": [
      "error: name 'inner' is not defined\n"
     ]
    }
   ],
   "source": [
    "try:\n",
    "    inner(5, 5)\n",
    "except NameError as e:\n",
    "    print(\"error:\", e)"
   ]
  },
  {
   "source": [
    "This should make some sort of sense. The declaration of `inner` was indented, which means it is part of the `get_distance_fn` function. If we were to use any other variable you should be able to know that it is clearly not accessible:"
   ],
   "cell_type": "markdown",
   "metadata": {}
  },
  {
   "cell_type": "code",
   "execution_count": 68,
   "metadata": {},
   "outputs": [
    {
     "output_type": "stream",
     "name": "stdout",
     "text": [
      "error: name 'not_accessible_outside' is not defined\n"
     ]
    }
   ],
   "source": [
    "def dummy_fn():\n",
    "    not_accessible_outside = 5\n",
    "\n",
    "try:\n",
    "    print(not_accessible_outside)\n",
    "except NameError as e:\n",
    "    print(\"error:\", e)"
   ]
  },
  {
   "source": [
    "Remember how variable scope works:\n",
    "\n",
    "- Variables declared in an inner block are not accessible in a outside blocks\n",
    "- Variables declared in outside blocks are accessible from an inner block\n",
    "\n",
    "The reason why `not_accessible_outside` is not accessible is because it is a local variable declared within the scope of `dummy_fn` and so it is not accessible from the global scope. Likewise, the `inner` function was declared within the scope of `get_distance_fn` and, since functions are just variables, is just a local variable to `get_distance_fn`.\n",
    "\n",
    "However, note the second point. It's the reason why this is possible:"
   ],
   "cell_type": "markdown",
   "metadata": {}
  },
  {
   "cell_type": "code",
   "execution_count": 69,
   "metadata": {},
   "outputs": [
    {
     "output_type": "stream",
     "name": "stdout",
     "text": [
      "10\n"
     ]
    }
   ],
   "source": [
    "global_variable = 5\n",
    "\n",
    "def dummy_fn_2():\n",
    "    print(global_variable*2)\n",
    "\n",
    "dummy_fn_2()"
   ]
  },
  {
   "source": [
    "Since `dummy_fn_2` is declared in the global scope with `global_variable`, the scope of `dummy_fn_2` is inside the global scope, and so `global_variable` is accessible from inside `dummy_fn_2`. However, back to the first example:\n",
    "\n",
    "```python\n",
    "def get_distance_fn(x1, y1):\n",
    "    point_1 = (x1, y1)\n",
    "\n",
    "    def inner(x2, y2):\n",
    "        return math.dist(point_1, (x2, y2))\n",
    "\n",
    "    return inner\n",
    "```\n",
    "\n",
    "If you imagine the inside of `get_distance_fn` was the global scope, and `x1` and `y1` were global variables, `inner` is just a function declared within that scope. Just like how `global_variable` was accessible within `dummy_fn_2`, `x1` and `y1` are accessible from within `inner`. So, it makes perfect sense according to our scope rules that we can access `x1`, `y1`, and `point_1`.\n",
    "\n",
    "The only strange part is that we are returning `inner`, and it is still able to use `point_1` in later function calls, even though the original `point_1` is no longer accessible after we returned from `get_distance_fn`.\n",
    "\n",
    "However, remember that functions are just objects. It turns out that the `inner` function stores in itself the variables that were accessible to it when it was declared."
   ],
   "cell_type": "markdown",
   "metadata": {}
  },
  {
   "cell_type": "code",
   "execution_count": 70,
   "metadata": {},
   "outputs": [
    {
     "output_type": "stream",
     "name": "stdout",
     "text": [
      "(<cell at 0x000001F38163DFD0: tuple object at 0x000001F381942200>,)\n"
     ]
    }
   ],
   "source": [
    "print(distance_func.__closure__)"
   ]
  },
  {
   "source": [
    "Where are the int values? Well, since `inner` doesn't use them, why would Python bother storing them? Here are a few more examples."
   ],
   "cell_type": "markdown",
   "metadata": {}
  },
  {
   "cell_type": "code",
   "execution_count": 71,
   "metadata": {},
   "outputs": [
    {
     "output_type": "stream",
     "name": "stdout",
     "text": [
      "103\n(<cell at 0x000001F381876B50: int object at 0x00007FFFEC4516A0>, <cell at 0x000001F3818765B0: int object at 0x00007FFFEC4516C0>, <cell at 0x000001F3818761C0: int object at 0x00007FFFEC452300>)\n"
     ]
    }
   ],
   "source": [
    "def create_quadratic_fn(a, b, c):\n",
    "    def inner(x):\n",
    "        return a*x*x + b*x + c\n",
    "    # this will modify the c in inner, even\n",
    "    # though the assignment happened after\n",
    "    c = 100\n",
    "    return inner\n",
    "\n",
    "fun = create_quadratic_fn(1, 2, 3)\n",
    "print(fun(1))\n",
    "print(fun.__closure__)"
   ]
  },
  {
   "cell_type": "code",
   "execution_count": 72,
   "metadata": {},
   "outputs": [
    {
     "output_type": "stream",
     "name": "stdout",
     "text": [
      "192\n197\n118\n182\n102\n(<cell at 0x000001F38163D520: function object at 0x000001F3820B5CA0>, <cell at 0x000001F3820C3FD0: int object at 0x00007FFFEC451720>)\n"
     ]
    }
   ],
   "source": [
    "import random\n",
    "\n",
    "def function_repeater(fun, n):\n",
    "    def inner():\n",
    "        for _ in range(n):\n",
    "            print(fun())\n",
    "    return inner\n",
    "\n",
    "def function_to_repeat():\n",
    "    return random.randint(100, 200)\n",
    "\n",
    "repeated = function_repeater(function_to_repeat, 5)\n",
    "repeated()\n",
    "print(repeated.__closure__)"
   ]
  },
  {
   "source": [
    "This example combines both closure and functions as parameters. To summarize:\n",
    "- Functions can be declared in places other than the global scope\n",
    "- Functions can store and use the variables accessible to them in the declaring scope, even if those variables later become inaccessible otherwise\n",
    "\n",
    "## Anonymous Functions\n",
    "\n",
    "Notice that `function_to_repeat` is declared in the global scope, just to be used as a parameter. If we don't ever want to use `function_to_repeat`, we can use an anonymous function to give a function to `function_repeater` without adding a function to the global scope:"
   ],
   "cell_type": "markdown",
   "metadata": {}
  },
  {
   "cell_type": "code",
   "execution_count": 73,
   "metadata": {},
   "outputs": [
    {
     "output_type": "stream",
     "name": "stdout",
     "text": [
      "161\n142\n146\n189\n131\n"
     ]
    }
   ],
   "source": [
    "repeated = function_repeater(lambda: random.randint(100, 200), 5)\n",
    "repeated()"
   ]
  },
  {
   "source": [
    "The syntax for an anonymous function in Python is to write `lambda`, a parameter list, then a colon, and a single expression which is the return value. Another example:\n",
    "\n",
    "`lambda x, y: x*y`\n",
    "\n",
    "The restriction that you can only use a single expression is just a Python thing. In the future, we'll see JavaScript anonymous functions that are basically just any other function.\n",
    "\n",
    "A very common usage of anonymous functions is when using functions like `map` in Python."
   ],
   "cell_type": "markdown",
   "metadata": {}
  },
  {
   "cell_type": "code",
   "execution_count": 74,
   "metadata": {},
   "outputs": [
    {
     "output_type": "stream",
     "name": "stdout",
     "text": [
      "hello there,\nhows it going,\nok bye now,\n\n"
     ]
    }
   ],
   "source": [
    "strings = [\n",
    "    \"    hELlo thEre \",\n",
    "    \"hoWs it Going \",\n",
    "    \" ok BYE now\"\n",
    "]\n",
    "\n",
    "print(\"\".join(\n",
    "    map(lambda x: x.lower().strip()+\",\\n\", strings)\n",
    "))"
   ]
  },
  {
   "source": [
    "The map function takes an iterable (such as a list) and returns a new iterable with the function given applied to each element.\n",
    "\n",
    "`map(fn, [x1, x2, x3...]) -> [fn(x1), fn(x2), fn(x3)...]`\n",
    "\n",
    "In this case, we're taking a list of strings and making each string lowercase, removing leading and trailing whitespace, and adding `\",\\n\"` to the end of each string.\n",
    "\n",
    "Since this function that performs this specific string operation is not very useful to us other than for this `map` call, we can use an anonymous function to avoid declaring a new function.\n",
    "\n",
    "## `*args` and `**kwargs`\n",
    "\n",
    "## Decorators"
   ],
   "cell_type": "markdown",
   "metadata": {}
  }
 ]
}